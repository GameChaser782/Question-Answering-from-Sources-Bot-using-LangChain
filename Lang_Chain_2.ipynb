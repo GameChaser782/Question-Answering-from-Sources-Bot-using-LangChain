{
  "cells": [
    {
      "cell_type": "markdown",
      "metadata": {
        "id": "lL_5fk_6A8GC"
      },
      "source": [
        "**Importing all the libraries used in the Problem**"
      ]
    },
    {
      "cell_type": "code",
      "source": [
        "!pip install faiss-cpu"
      ],
      "metadata": {
        "id": "NNy_Z9h3rSWb"
      },
      "execution_count": null,
      "outputs": []
    },
    {
      "cell_type": "code",
      "source": [
        "!pip install tensorflow_text"
      ],
      "metadata": {
        "id": "UFJDEAWBde0_"
      },
      "execution_count": null,
      "outputs": []
    },
    {
      "cell_type": "code",
      "source": [
        "!pip install tiktoken"
      ],
      "metadata": {
        "id": "HngYdW0JDIip"
      },
      "execution_count": null,
      "outputs": []
    },
    {
      "cell_type": "code",
      "source": [
        "!pip install beautifulsoup4"
      ],
      "metadata": {
        "id": "J2MZ-lDk6rHU"
      },
      "execution_count": null,
      "outputs": []
    },
    {
      "cell_type": "code",
      "source": [
        "!pip install sentence_transformers"
      ],
      "metadata": {
        "id": "fURwlWUBALot"
      },
      "execution_count": null,
      "outputs": []
    },
    {
      "cell_type": "code",
      "source": [
        "!pip install --upgrade langchain"
      ],
      "metadata": {
        "id": "adGOgZTIG_7A"
      },
      "execution_count": null,
      "outputs": []
    },
    {
      "cell_type": "code",
      "source": [
        "!pip install anthropic"
      ],
      "metadata": {
        "id": "-tlszzg2Ma0n"
      },
      "execution_count": null,
      "outputs": []
    },
    {
      "cell_type": "code",
      "source": [
        "!pip install unstructured"
      ],
      "metadata": {
        "id": "0izxheEGiY-O"
      },
      "execution_count": null,
      "outputs": []
    },
    {
      "cell_type": "code",
      "source": [
        "import os\n",
        "import getpass\n",
        "os.environ['ANTHROPIC_API_KEY'] = getpass.getpass('Anthropic API Key:')"
      ],
      "metadata": {
        "colab": {
          "base_uri": "https://localhost:8080/"
        },
        "id": "_JKhij7K_poM",
        "outputId": "ec638dc4-f247-4e89-edd7-875105b6fd24"
      },
      "execution_count": 55,
      "outputs": [
        {
          "name": "stdout",
          "output_type": "stream",
          "text": [
            "Anthropic API Key:··········\n"
          ]
        }
      ]
    },
    {
      "cell_type": "code",
      "execution_count": 56,
      "metadata": {
        "id": "l824UVEeA1wY"
      },
      "outputs": [],
      "source": [
        "import requests\n",
        "from bs4 import BeautifulSoup\n",
        "import faiss\n",
        "import anthropic\n",
        "import sentence_transformers\n",
        "import langchain\n",
        "import numpy as np\n",
        "from langchain.text_splitter import CharacterTextSplitter\n",
        "from langchain.embeddings import HuggingFaceEmbeddings\n",
        "from langchain.vectorstores import FAISS"
      ]
    },
    {
      "cell_type": "markdown",
      "source": [
        "Scraping Articles from URLs and conerting them to Pages"
      ],
      "metadata": {
        "id": "29MiP1LFzNbo"
      }
    },
    {
      "cell_type": "code",
      "source": [
        "def extract_text_from(url):\n",
        "    html = requests.get(url).text\n",
        "    soup = BeautifulSoup(html, features=\"html.parser\")\n",
        "    text = soup.find(\"div\", {\"id\": \"mw-content-text\"}).text.strip()\n",
        "    lines = (line.strip() for line in text.splitlines())\n",
        "    return ' '.join(lines)"
      ],
      "metadata": {
        "id": "QLlTJv5rPc6x"
      },
      "execution_count": 58,
      "outputs": []
    },
    {
      "cell_type": "code",
      "execution_count": 59,
      "metadata": {
        "id": "UexUXDRFCK0j"
      },
      "outputs": [],
      "source": [
        "url = \"https://simple.wikipedia.org/wiki/List_of_national_capitals\"\n",
        "response = requests.get(url)\n",
        "soup = BeautifulSoup(response.content, \"html.parser\")\n",
        "table = soup.find(\"table\", {\"class\": \"wikitable\"})\n",
        "\n",
        "capitals = []\n",
        "\n",
        "for row in table.find_all(\"tr\")[1:]:\n",
        "    cells = row.find_all(\"td\")\n",
        "    capital = cells[0].text.strip()\n",
        "    link = cells[0].find(\"a\")[\"href\"]\n",
        "    capitals.append((capital, link))\n",
        "\n",
        "pages = []\n",
        "for capital, link in capitals:\n",
        "    url = f\"https://simple.wikipedia.org{link}\"\n",
        "    pages.append({'text': extract_text_from(url), 'source': url})"
      ]
    },
    {
      "cell_type": "markdown",
      "source": [
        "Splitting the exracted pages into Chunks called Docs and Embedding them using Hugging Face Embeddings function.\n",
        "The embedding is stored in a vector called db."
      ],
      "metadata": {
        "id": "RhBfb6n-xXiK"
      }
    },
    {
      "cell_type": "code",
      "execution_count": null,
      "metadata": {
        "id": "ySt9rZSCsyZl"
      },
      "outputs": [],
      "source": [
        "db = {}\n",
        "hf = HuggingFaceEmbeddings()\n",
        "text_splitter = CharacterTextSplitter(chunk_size=300, chunk_overlap  = 50, separator=\"\\n\")\n",
        "docs, metadatas = [], []\n",
        "for page in pages:\n",
        "    splits = text_splitter.split_text(page['text'])\n",
        "    docs.extend(splits)\n",
        "    metadatas.extend([{\"source\": page['source']}] * len(splits))\n",
        "    print(f\"Split {page['source']} into {len(splits)} chunks\")\n",
        "\n",
        "embeddings = hf\n",
        "db = FAISS.from_texts(docs, embeddings, metadatas=metadatas)"
      ]
    },
    {
      "cell_type": "markdown",
      "source": [
        "TEST 1"
      ],
      "metadata": {
        "id": "VLfPPqYZxEzp"
      }
    },
    {
      "cell_type": "code",
      "source": [
        "query = \"What is the average rainfall per year in Abu Dhabi?\"\n",
        "docs = db.similarity_search(query)\n",
        "print(docs[0].page_content)"
      ],
      "metadata": {
        "colab": {
          "base_uri": "https://localhost:8080/"
        },
        "id": "0qiay-F7_6bP",
        "outputId": "c5de547e-b863-4ff7-b014-3ac775a6d67c"
      },
      "execution_count": 62,
      "outputs": [
        {
          "output_type": "stream",
          "name": "stdout",
          "text": [
            "View of Abu Dhabi Satellite image of Abu Dhabi (March 2003)  This article is about the city. For the emirate, see Abu Dhabi (emirate). Abu Dhabi (Arabic: أبو ظبي, ʼAbū Ẓaby) is the capital city of the United Arab Emirates. It is in the emirate of Abu Dhabi. Abu Dhabi is one of the seven emirates which form the United Arab Emirates(UAE). The city is on a T-shaped island going into the Persian Gulf from the central western coast.  The city is 972 km2 in size.  The city had a population of 1.45 million people in 2022. Abu Dhabi is also the capital of UAE and is the largest emirates in UAE.[1]   History[change | change source] People started to live in the area and call it Abu Dhabi about 300 years ago.  In the 1970s, the Bani Yas tribe made Abu Dhabi their capital city.  Shakhbut bin-Dhiyab Al Nahyan became the leader of the city in 1818.  People found oil in 1958 in Abu Dhabi.  They started to sell the oil in the 1960s.  In 1971 December the 2nd, Abu Dhabi joined the United Arab Emirates and became the capital city.  Weather[change | change source] Abu Dhabi is in a desert and has a desert climate.  There is not a lot of rain but it does rain a little in the winter months.  The average rainfall per year is 51 cm.  It can also be very hot.  In the daytime, the average summer temperature is 42 °C. The average daytime temperature in the winter is more comfortable at 23 °C.  Tourism[change | change source] Abu Dhabi has many tourist attractions such as the Sheikh Zayed Mosque, Abu Dhabi Louvre Museum, Mangrove Kayaking Tours, Ferrari World, the Emirates Palace, Qasr Al-Hosn, bout towers, Abu Dhabi According to the Department of Culture and Tourism. The usual amount of people that come in Abu Dhabi is 10 million per year. Abu Dhabi also has Jabal Hafeet, which is the tallest mountain in the UAE.  References[change | change source]   ↑ United Arab Emirates: largest cities and towns and statistics of their population Archived 2013-07-23 at the Wayback Machine. World Gazetteer.     This short article about Asia can be made longer. You can help Wikipedia by adding to it.     Retrieved from \"https://simple.wikipedia.org/w/index.php?title=Abu_Dhabi&oldid=8794195\"\n"
          ]
        }
      ]
    },
    {
      "cell_type": "markdown",
      "source": [
        "Using the retriever funciton to fetch relevant document form db. \n",
        "NOTE: Instead of retriever, similarity_search() can also be used.\n",
        "Using LLM model form Anthopic to answer the given prompt. "
      ],
      "metadata": {
        "id": "5Scp4HOox3NN"
      }
    },
    {
      "cell_type": "code",
      "source": [
        "def answer_query(question, db):\n",
        "    retriever = db.as_retriever()\n",
        "    summaries = retriever.get_relevant_documents(question)\n",
        "    prompt = f\"{anthropic.HUMAN_PROMPT} Answer the given question, {question}, using {summaries} only {anthropic.AI_PROMPT}\"\n",
        "    c = anthropic.Client(os.environ[\"ANTHROPIC_API_KEY\"])\n",
        "    response = c.completion(\n",
        "        prompt = prompt, \n",
        "        model = \"claude-v1\", \n",
        "        max_tokens_to_sample = 100,\n",
        "        top_k = 1,\n",
        "        temperature = 0.5,\n",
        "        top_p = 1.0,\n",
        "    )\n",
        "    return response"
      ],
      "metadata": {
        "id": "B8J8P2csiG-m"
      },
      "execution_count": 64,
      "outputs": []
    },
    {
      "cell_type": "markdown",
      "source": [
        "TEST 2"
      ],
      "metadata": {
        "id": "NPMnAjaGw-TA"
      }
    },
    {
      "cell_type": "code",
      "source": [
        "question = \"What is the capital of France?\"\n",
        "retriever = db.as_retriever()\n",
        "summaries = retriever.get_relevant_documents(question)\n",
        "print(summaries[0].page_content)\n",
        "print(len(summaries))"
      ],
      "metadata": {
        "colab": {
          "base_uri": "https://localhost:8080/"
        },
        "id": "qJoExzrxLiQL",
        "outputId": "1e018704-c4da-4891-ad29-d14d0133e215"
      },
      "execution_count": 65,
      "outputs": [
        {
          "output_type": "stream",
          "name": "stdout",
          "text": [
            "For the character in mythology, see Paris (mythology). ParisCommune and departmentClockwise from top: skyline of Paris on the Seine with the Eiffel Tower, Notre-Dame de Paris, the Louvre and its large pyramid, and the Arc de Triomphe FlagCoat of armsMotto(s): Fluctuat nec mergitur \"Tossed by the waves but never sunk\"ParisLocation within FranceShow map of FranceParisLocation within EuropeShow map of EuropeParisParis (Earth)Show map of EarthCoordinates: 48°51′24″N 2°21′03″E﻿ / ﻿48.8567°N 2.3508°E﻿ / 48.8567; 2.3508Coordinates: 48°51′24″N 2°21′03″E﻿ / ﻿48.8567°N 2.3508°E﻿ / 48.8567; 2.3508CountryFranceRegionÎle-de-FranceDepartmentParisSubdivisions20 arrondissementsGovernment • MayorAnne Hidalgo (PS)Area • Commune and department105.4 km2 (40.7 sq mi)Population (January 1, 2019 (est))[1] • Commune and department2,140,526 • Density20,000/km2 (53,000/sq mi) • Metro[2]12,532,901Demonym(s)ParisianTime zoneUTC+1 (CET) • Summer (DST)UTC+2 (CEST)INSEE/postal code75001–75020, 75116Websitewww.paris.fr Paris (nicknamed the \"City of light\") is the capital city of France, and the largest city in France. The area is 105 square kilometres (41 square miles), and around 2.15 million people live there. If suburbs are counted, the population of the Paris area rises to 10.7 million people. It is the most densely populated city in the European Union, with  20.653 people per square kilometer. The Seine river runs through the oldest part of Paris, and divides it into two parts, known as the Left Bank and the Right Bank. It is surrounded by many forests. Paris is also the center of French economy, politics, traffic and culture. Paris has many art museums and historical buildings. As a traffic center, Paris has a very good underground subway system (called the Metro). It also has two airports. The Metro was built in 1900, and its total length is more than 200 km (120 mi). The city has a multi-cultural style, because 19% of the people there are from outside France.[3] There are many different restaurants with all kinds of food. Paris also has some types of pollution like air pollution and light pollution.   History[change | change source] Julius Caesar conquered the Celtic \"Parisii\" tribe in 51 BC. The Romans called the place Lutetia of the Parisii, or \"Lutetia Parisiorum\".[4][5][6] The place got a shorter name, \"Paris\", in 212 AD.[7] As the Roman Empire began to fall apart in the West, the Germanic tribe called the Franks moved in, taking it in 464. In 507, their king Clovis I made it his capital. Charlemagne moved his capital to Aachen in Germany, but Paris continued as an important town and was attacked by the Vikings twice. When Hugh Capet became king of France in 987, he again made Paris his capital. For a long time, the kings only controlled Paris and the surrounding area, as much of the rest of France was in the hands of barons or English. During the Hundred Years' War, the English controlled Paris from 1420 to 1437. During the Protestant Reformation, a huge massacre of French Protestants started there in 1572, called the Saint Bartholomew Day Massacre. Paris saw many other troubles over the years of the \"Ancien Régime\" (Old Kingdom), then in 1789, the French Revolution began in Paris, leading to more massacres. Paris was the Capital of the French Empire which, as well as France, covered Spain, Belgium, Holland, Luxembourg, Switzerland, Italy, most of Germany and some of Austria, Croatia, Slovenia and Poland. The Empire ruled by Napoleon was from 1804 to 1814/1815. The Russian army seized Paris from Napoleon in 1814, and the Prussian army captured it in 1871. The next time it was captured was by the Nazi Germans in 1940. The Allies freed the city in 1944 and it has not since been captured. Also, the city has been featured in many songs including the Number #1 hit song by Jay-Z and Kanye West called \"Niggas In Paris\"[8]  Climate[change | change source] Paris has an oceanic climate in the Köppen climate classification. It has warm summers and cold winters, and rainfall year-round.     Climate data for Paris (Parc Montsouris), elevation: 75 m or 246 ft, 1981–2010 normals, extremes 1872–present   Month  Jan  Feb  Mar  Apr  May  Jun  Jul  Aug  Sep  Oct  Nov  Dec  Year   Record high °C (°F)  16.1(61.0)  21.4(70.5)  25.7(78.3)  30.2(86.4)  34.8(94.6)  37.6(99.7)  42.6(108.7)  39.5(103.1)  36.2(97.2)  28.9(84.0)  21.6(70.9)  17.1(62.8)  42.6(108.7)   Average high °C (°F)  7.2(45.0)  8.3(46.9)  12.2(54.0)  15.6(60.1)  19.6(67.3)  22.7(72.9)  25.2(77.4)  25.0(77.0)  21.1(70.0)  16.3(61.3)  10.8(51.4)  7.5(45.5)  16.0(60.8)   Daily mean °C (°F)  4.9(40.8)  5.6(42.1)  8.8(47.8)  11.5(52.7)  15.2(59.4)  18.3(64.9)  20.5(68.9)  20.3(68.5)  16.9(62.4)  13.0(55.4)  8.3(46.9)  5.5(41.9)  12.4(54.3)   Average low °C (°F)  2.7(36.9)  2.8(37.0)  5.3(41.5)  7.3(45.1)  10.9(51.6)  13.8(56.8)  15.8(60.4)  15.7(60.3)  12.7(54.9)  9.6(49.3)  5.8(42.4)  3.4(38.1)  8.8(47.8)   Record low °C (°F)  −14.6(5.7)  −14.7(5.5)  −9.1(15.6)  −3.5(25.7)  −0.1(31.8)  3.1(37.6)  2.7(36.9)  6.3(43.3)  1.8(35.2)  −3.8(25.2)  −14.0(6.8)  −23.9(−11.0)  −23.9(−11.0)   Average precipitation mm (inches)  51.0(2.01)  41.2(1.62)  47.6(1.87)  51.8(2.04)  63.2(2.49)  49.6(1.95)  62.3(2.45)  52.7(2.07)  47.6(1.87)  61.5(2.42)  51.1(2.01)  57.8(2.28)  637.4(25.09)   Average precipitation days (≥ 1.0 mm)  9.9  9.0  10.6  9.3  9.8  8.4  8.1  7.7  7.8  9.6  10.0  10.9  111.1   Average snowy days  3.0  3.9  1.6  0.6  0.0  0.0  0.0  0.0  0.0  0.0  0.7  2.1  11.9   Average relative humidity (%)  83  78  73  69  70  69  68  71  76  82  84  84  76   Mean monthly sunshine hours  62.5  79.2  128.9  166.0  193.8  202.1  212.2  212.1  167.9  117.8  67.7  51.4  1,661.6   Percent possible sunshine  22  28  35  39  42  42  43  49  43  35  26  21  35   Average ultraviolet index  1  2  3  4  6  7  7  6  4  3  1  1  4   Source 1: Meteo France,[9][10] Infoclimat.fr (relative humidity 1961–1990)[11]   Source 2: Weather Atlas (percent sunshine and UV Index) [12]      Climate data for Paris (Le Bourget Airport), elevation: 65 m or 213 ft, 1961-1990 normals, extremes 1920-2017   Month  Jan  Feb  Mar  Apr  May  Jun  Jul  Aug  Sep  Oct  Nov  Dec  Year   Record high °C (°F)  16.1(61.0)  20.8(69.4)  24.7(76.5)  31.9(89.4)  33.1(91.6)  36.9(98.4)  39.6(103.3)  40.2(104.4)  35.0(95.0)  28.6(83.5)  21.3(70.3)  17.2(63.0)  40.2(104.4)   Mean maximum °C (°F)  10.1(50.2)  13.3(55.9)  14.6(58.3)  17.5(63.5)  22.6(72.7)  27.6(81.7)  28.2(82.8)  27.9(82.2)  24.5(76.1)  18.6(65.5)  13.4(56.1)  10.6(51.1)  28.2(82.8)   Average high °C (°F)  6.5(43.7)  7.6(45.7)  10.6(51.1)  14.2(57.6)  17.9(64.2)  21.4(70.5)  23.6(74.5)  23.4(74.1)  20.9(69.6)  16.4(61.5)  10.0(50.0)  7.0(44.6)  15.0(58.9)   Daily mean °C (°F)  3.8(38.8)  4.6(40.3)  6.9(44.4)  9.7(49.5)  13.1(55.6)  16.2(61.2)  18.3(64.9)  18.1(64.6)  15.7(60.3)  11.9(53.4)  6.9(44.4)  4.6(40.3)  10.8(51.5)   Average low °C (°F)  1.3(34.3)  1.5(34.7)  3.1(37.6)  5.0(41.0)  8.3(46.9)  11.2(52.2)  12.5(54.5)  12.7(54.9)  11.0(51.8)  7.7(45.9)  3.7(38.7)  1.9(35.4)  6.7(44.0)   Mean minimum °C (°F)  −5.1(22.8)  −5.4(22.3)  0.1(32.2)  3.3(37.9)  6.5(43.7)  9.1(48.4)  11.7(53.1)  10.7(51.3)  7.3(45.1)  5.2(41.4)  0.9(33.6)  −2.1(28.2)  −5.4(22.3)   Record low °C (°F)  −18.2(−0.8)  −16.8(1.8)  −9.6(14.7)  −3.7(25.3)  −1.6(29.1)  0.9(33.6)  3.5(38.3)  1.9(35.4)  0.1(32.2)  −5.6(21.9)  −9.3(15.3)  −15.1(4.8)  −18.2(−0.8)   Average precipitation mm (inches)  56.4(2.22)  43.2(1.70)  52.3(2.06)  44.5(1.75)  66.6(2.62)  60.9(2.40)  49.2(1.94)  45.8(1.80)  44.0(1.73)  49.5(1.95)  55.9(2.20)  49.2(1.94)  617.5(24.31)   Average precipitation days (≥ 1.0 mm)  10.6  9.5  10.8  9.4  10.9  8.4  8.2  7.8  8.2  8.9  9.8  10.3  112.8   Average snowy days  4.1  3.9  3.0  1.0  0.1  0.0  0.0  0.0  0.0  0.0  1.3  2.8  16.2   Average relative humidity (%)  86  82  78  74  75  75  73  74  78  84  87  87  79   Mean monthly sunshine hours  55.6  87.5  129.4  172.8  201.4  218.8  239.1  221.1  172.3  125.9  75.2  50.6  1,749.7   Percent possible sunshine  21.0  31.0  36.0  42.0  43.0  46.0  46.0  46.0  46.0  38.0  28.0  20.0  36.9   Source 1: NOAA[13]   Source 2: Météone (humidity and extremes)[14]   Tourism[change | change source] Paris has much to offer for sightseeing. Here are five very famous examples:  The Eiffel Tower is the most famous sight in Paris, built by Gustave Eiffel in 1889 with 6,300 tonnes (13,900,000 pounds) of iron — that means 18,000 pieces of iron and 2.5 million rivets. With a height of 300 meters, for a long time it was the highest tower in the world. Over 6 million people visit it every year. There are three levels that you can visit, and the highest one is 2nd above the ground. It was made for a fair, but the French government wanted to tear it down. With rising popularity, it stayed. The Louvre is a museum with very famous, old works of art, such as the Mona Lisa and the Venus de Milo. The building was built as a house for French kings. The Louvre is the third biggest museum in the world, with 60,000 square metres (650,000 square feet) of show room.[15] It is the most visited art museum in the world with over 5 million people visit it each year. The Musée d'Orsay was a train station, but it is now an art museum. Most of the art at the Musée D'Orsay was made between 1848 and 1915. This is newer than the art at the Louvre. The Moulin Rouge is a cabaret with many shows, and it opened in 1889. It is in Montmartre — a part of Paris with an exciting nightlife. In the Moulin Rouge, women put on a famous dance called the French cancan. The Champs-Élysées is probably the most famous street in Paris, and one of the most famous in the world. It is full of places to shop and eat. On one end of the Champs-Élysées is the Arc de Triomphe. The Notre Dame de Paris is a major Gothic cathedral, which was destroyed on 15 April 2019. It is in \"Île de la Cité\". The Basilica of Sacré-Coeur is a major church devoted to the Sacred Heart. Transportation[change | change source] Because the city of Paris is roughly only 10 kilometres \\ 6 miles across, visitors have a wide range of options when it comes to transportation. While much of the more well-known attractions are in the center of the city and are best experienced by walking, there are many destinations that require other means of transport. While taxis offer a fast and relatively inexpensive means of travel, Paris’ public transportation system offers an enjoyable, stress-free way to explore the city. The Paris Métro system was built in 1900 by engineer Fulgence Bienvenüe and architect Hector Guimard. The Métro covers over 198 kilometers\\124 miles with 300 stations[16] and 16 lines. Servicing over 6 million residents and tourists every day, the Métro was designed to be an efficient and reliable alternative to the congestion of traffic. Every building in Paris is less than 500 meters from a train station, so accessibility is never a problem. The 16 Métro lines are identified by their final destinations. A rider can simply select the appropriate line and take it in the direction s/he wants. The Métro stations are well marked, and there are ticket booths at most entrances. There are five airports that serve Paris: Charles de Gaulle Airport, Orly Airport, Beauvais-Tillé Airport and Paris–Le Bourget Airport, and Châlons Vatry Airport.  Events[change | change source] 1900 – The 2nd Summer Olympic Games took place in Paris. 1924 – The 8th Summer Olympic Games took place in Paris. 1998 – The FIFA World Cup 2024 – The 33rd Summer Olympic Games will take place in Paris. Related pages[change | change source] Cataphile Capital of France References[change | change source]   ↑ \"INSEE official estimated population by department and region as of 1 January 2019\". 22 January 2019. Archived from the original on 21 April 2017. Retrieved 26 June 2019.  ↑ \"Dossier complet − Aire urbaine de Paris (001) | Insee\". www.insee.fr. Archived from the original on 2018-07-24. Retrieved 2019-06-26.  ↑ \"Paris\". www.worldcitiescultureforum.com. Retrieved 2021-06-07.  ↑ R. Anthony Lodge (2004). A Sociolinguistic History of Parisian French. Cambridge University Press. pp. 37–38. ISBN 9781139449786. Retrieved 2017-10-26.  ↑ Richard J. A. Talbert (2002). Atlas of Classical History. Routledge. p. 135. ISBN 9780203405352. Retrieved 2017-10-26.  ↑ Russell L. Sturzebecker (1985). Athletic-Cultural Archaeological Sites in the Greco-Roman World: Europe–North Africa–Middle East. R. L. Sturzebecker. p. 62. ISBN 9780960046621. OCLC 13238543. Retrieved 2017-10-26.  ↑ \"5 Fun Facts about Paris\". Venere.com. Archived from the original on 15 June 2012. Retrieved 13 August 2013.  ↑ Jay Z ft. Kanye West - Niggas in Paris (Official music video), retrieved 2022-09-13  ↑ \"Climatological Information for Paris, France\". Meteo France. August 2011. Archived from the original on 2020-04-24. Retrieved 2020-04-08.  ↑ \"Paris–Montsouris (984)\" (PDF). Fiche Climatologique: Statistiques 1981–2010 et records (in French). Meteo France. Archived from the original (PDF) on 27 February 2018. Retrieved 26 February 2018.  ↑ \"Normes et records 1961–1990: Paris-Montsouris (75) – altitude 75m\" (in French). Infoclimat. Archived from the original on 24 August 2017. Retrieved 19 May 2015.  ↑ \"Paris, France – Climate data\". Weather Atlas. Archived from the original on 12 March 2017. Retrieved 9 March 2017.  ↑ \"Paris (07150) - WMO Weather Station\". NOAA. Archived from the original on May 21, 2021. Retrieved January 21, 2019. Archived January 21, 2019, at the Wayback Machine  ↑ \"Normales climatiques - Paris Le Bourget\" (PDF). Météone. Archived from the original on 2019-07-22. Retrieved 2020-04-08.{{cite web}}:  CS1 maint: bot: original URL status unknown (link) July 22, 2019, at the Wayback Machine  ↑ The Metropolitan Museum of Art in New York, and the Hermitage Museum in St. Petersburg are larger.  ↑ \"Statistiques Syndicat des transports d'Île-de-France rapport 2005\" (PDF) (in French). Archived from the original (PDF) on 17 June 2012. Retrieved 19 August 2011.   Other websites[change | change source]    Wikivoyage has a travel guide about: Paris     Wikimedia Commons has media related to Paris.  Official website of the Paris Convention and Visitors Bureau (English version) This city at the Historical Association for Joan of Arc Studies[permanent dead link] Visiting Paris – tips and useful advice RATP Navigating the Paris Métro vteCapitals of EuropeEuropean Union countries  Amsterdam, Netherlands · Athens, Greece · Berlin, Germany · Bratislava, Slovakia · Brussels, Belgium · Bucharest, Romania · Budapest, Hungary · Copenhagen, Denmark · Dublin, Republic of Ireland · Helsinki, Finland · Lisbon, Portugal · Ljubljana, Slovenia · Luxembourg City, Luxembourg · Madrid, Spain · Nicosia, Cyprus1 · Paris, France · Prague, Czech Republic · Riga, Latvia · Rome, Italy · Sofia, Bulgaria · Stockholm, Sweden · Tallinn, Estonia · Valletta, Malta · Vienna, Austria · Vilnius, Lithuania · Warsaw, Poland · Zagreb, Croatia   Other European countries  Andorra la Vella, Andorra · Ankara, Turkey1 · Belgrade, Serbia · Bern, Switzerland · Chişinău, Moldova · Kyiv, Ukraine · London, United Kingdom · Minsk, Belarus · Monaco-Ville, Monaco · Moscow, Russia1 · Oslo, Norway · Podgorica, Montenegro · Reykjavík, Iceland · San Marino, San Marino · Sarajevo, Bosnia Herzegovina · Skopje, North Macedonia · Tbilisi, Georgia1 · Tirana, Albania ·  Vaduz, Liechtenstein · NOTES: 1. Country part of both Europe and Asia vteCities in France by population1,000,000+ Paris 500,000+ Marseille Lyon 200,000+ Toulouse Nice Nantes Montpellier Strasbourg Bordeaux Lille Rennes 100,000+ Reims Saint-Étienne Toulon Le Havre Grenoble Dijon Angers Nîmes Saint-Denis Villeurbanne Clermont-Ferrand Le Mans Aix-en-Provence Brest Tours Amiens Limoges Annecy Perpignan Boulogne-Billancourt Orléans Metz Besançon Saint-Denis Argenteuil Rouen Montreuil Mulhouse Caen Saint-Paul Nancy  Complete list  vteDepartments of France 01 Ain 02 Aisne 03 Allier 04 Alpes-de-Haute-Provence 05 Hautes-Alpes 06 Alpes-Maritimes 07 Ardèche 08 Ardennes 09 Ariège 10 Aube 11 Aude 12 Aveyron 13 Bouches-du-Rhône 14 Calvados 15 Cantal 16 Charente 17 Charente-Maritime 18 Cher 19 Corrèze 2A Corse-du-Sud 2B Haute-Corse 21 Côte-d'Or 22 Côtes-d'Armor 23 Creuse 24 Dordogne 25 Doubs 26 Drôme 27 Eure 28 Eure-et-Loir 29 Finistère 30 Gard 31 Haute-Garonne 32 Gers 33 Gironde 34 Hérault 35 Ille-et-Vilaine 36 Indre 37 Indre-et-Loire 38 Isère 39 Jura 40 Landes 41 Loir-et-Cher 42 Loire 43 Haute-Loire 44 Loire-Atlantique 45 Loiret 46 Lot 47 Lot-et-Garonne 48 Lozère 49 Maine-et-Loire 50 Manche 51 Marne 52 Haute-Marne 53 Mayenne 54 Meurthe-et-Moselle 55 Meuse 56 Morbihan 57 Moselle 58 Nièvre 59 Nord 60 Oise 61 Orne 62 Pas-de-Calais 63 Puy-de-Dôme 64 Pyrénées-Atlantiques 65 Hautes-Pyrénées 66 Pyrénées-Orientales 67 Bas-Rhin 68 Haut-Rhin 69D Rhône 70 Haute-Saône 71 Saône-et-Loire 72 Sarthe 73 Savoie 74 Haute-Savoie 75 Paris 76 Seine-Maritime 77 Seine-et-Marne 78 Yvelines 79 Deux-Sèvres 80 Somme 81 Tarn 82 Tarn-et-Garonne 83 Var 84 Vaucluse 85 Vendée 86 Vienne 87 Haute-Vienne 88 Vosges 89 Yonne 90 Territoire de Belfort 91 Essonne 92 Hauts-de-Seine 93 Seine-Saint-Denis 94 Val-de-Marne 95 Val-d'Oise Overseas departments 971 Guadeloupe 972 Martinique 973 French Guiana 974 Réunion 976 Mayotte Metropolis with territorial collectivity statute 69M Lyon  vte Communes in the Paris metropolitan areaPopulation over 2 million Paris Population over 100,000 Argenteuil Boulogne-Billancourt Montreuil Saint-Denis Population over 75,000 Asnières-sur-Seine Aubervilliers Aulnay-sous-Bois Champigny-sur-Marne Colombes Courbevoie Créteil Nanterre Rueil-Malmaison Versailles Vitry-sur-Seine Population over 50,000 Antony Le Blanc-Mesnil Bondy Cergy Chelles Clamart Clichy Drancy Épinay-sur-Seine Évry-Courcouronnes Fontenay-sous-Bois Issy-les-Moulineaux Ivry-sur-Seine Levallois-Perret Maisons-Alfort Meaux Neuilly-sur-Seine Noisy-le-Grand Pantin Saint-Maur-des-Fossés Sarcelles Sartrouville Sevran Villejuif Population over 25,000 Alfortville Athis-Mons Bagneux Bagnolet Bezons Bobigny Bois-Colombes Brunoy Bussy-Saint-Georges Cachan Charenton-le-Pont Châtenay-Malabry Châtillon Chatou Le Chesnay-Rocquencourt Choisy-le-Roi Clichy-sous-Bois Conflans-Sainte-Honorine Corbeil-Essonnes La Courneuve Draveil Élancourt Ermont Franconville Fresnes Gagny La Garenne-Colombes Garges-lès-Gonesse Gennevilliers Gonesse Goussainville Grigny Guyancourt L'Haÿ-les-Roses Herblay-sur-Seine Houilles Le Kremlin-Bicêtre Livry-Gargan Malakoff Mantes-la-Jolie Massy Melun Meudon Montfermeil Montigny-le-Bretonneux Montrouge Les Mureaux Neuilly-sur-Marne Nogent-sur-Marne Noisy-le-Sec Palaiseau Le Perreux-sur-Marne Pierrefitte-sur-Seine Plaisir Le Plessis-Robinson Poissy Pontault-Combault Pontoise Puteaux Rambouillet Ris-Orangis Romainville Rosny-sous-Bois Saint-Cloud Saint-Germain-en-Laye Saint-Ouen-sur-Seine Sainte-Geneviève-des-Bois Sannois Savigny-sur-Orge Savigny-le-Temple Stains Sucy-en-Brie Suresnes Taverny Thiais Trappes Tremblay-en-France Vanves Vigneux-sur-Seine Villemomble Villeneuve-la-Garenne Villeneuve-Saint-Georges Villeparisis Villepinte Villiers-le-Bel Villiers-sur-Marne Vincennes Viry-Châtillon Yerres Population under 25,000 1,669 other communes  vte Prefectures of departments of France Bourg-en-Bresse (Ain) Laon (Aisne) Moulins (Allier) Digne-les-Bains (Alpes-de-Haute-Provence) Gap (Hautes-Alpes) Nice (Alpes-Maritimes) Privas (Ardèche) Charleville-Mézières (Ardennes) Foix (Ariège) Troyes (Aube) Carcassonne (Aude) Rodez (Aveyron) Marseille (Bouches-du-Rhône) Caen (Calvados) Aurillac (Cantal) Angoulême (Charente) La Rochelle (Charente-Maritime) Bourges (Cher) Tulle (Corrèze) Ajaccio (Corse-du-Sud) Bastia (Haute-Corse) Dijon (Côte-d'Or) Saint-Brieuc (Côtes-d'Armor) Guéret (Creuse) Périgueux (Dordogne) Besançon (Doubs) Valence (Drôme) Évreux (Eure) Chartres (Eure-et-Loir) Quimper (Finistère) Nîmes (Gard) Toulouse (Haute-Garonne) Auch (Gers) Bordeaux (Gironde) Montpellier (Hérault) Rennes (Ille-et-Vilaine) Châteauroux (Indre) Tours (Indre-et-Loire) Grenoble (Isère) Lons-le-Saunier (Jura) Mont-de-Marsan (Landes) Blois (Loir-et-Cher) Saint-Étienne (Loire) Le Puy-en-Velay (Haute-Loire) Nantes (Loire-Atlantique) Orléans (Loiret) Cahors (Lot) Agen (Lot-et-Garonne) Mende (Lozère) Angers (Maine-et-Loire) Saint-Lô (Manche) Châlons-en-Champagne (Marne) Chaumont (Haute-Marne) Laval (Mayenne) Nancy (Meurthe-et-Moselle) Bar-le-Duc (Meuse) Vannes (Morbihan) Metz (Moselle) Nevers (Nièvre) Lille (Nord) Beauvais (Oise) Alençon (Orne) Arras (Pas-de-Calais) Clermont-Ferrand (Puy-de-Dôme) Pau (Pyrénées-Atlantiques) Tarbes (Hautes-Pyrénées) Perpignan (Pyrénées-Orientales) Strasbourg (Bas-Rhin) Colmar (Haut-Rhin) Lyon (Rhône) Vesoul (Haute-Saône) Mâcon (Saône-et-Loire) Le Mans (Sarthe) Chambéry (Savoie) Annecy (Haute-Savoie) Paris (Paris) Rouen (Seine-Maritime) Melun (Seine-et-Marne) Versailles (Yvelines) Niort (Deux-Sèvres) Amiens (Somme) Albi (Tarn) Montauban (Tarn-et-Garonne) Toulon (Var) Avignon (Vaucluse) La Roche-sur-Yon (Vendée) Poitiers (Vienne) Limoges (Haute-Vienne) Épinal (Vosges) Auxerre (Yonne) Belfort (Territoire de Belfort) Évry (Essonne) Nanterre (Hauts-de-Seine) Bobigny (Seine-Saint-Denis) Créteil (Val-de-Marne) Cergy, Pontoise (Val-d'Oise) Overseas departments Basse-Terre (Guadeloupe) Fort-de-France (Martinique) Cayenne (French Guiana) Saint-Denis (Réunion) Mamoudzou (Mayotte)  Authority control International FAST ISNI VIAF WorldCat Identities WorldCat Entities National Spain France 2 BnF data 2 Germany Israel United States Latvia Japan Czech Republic Geographic MusicBrainz area Artists Victoria Other Historical Dictionary of Switzerland NARA 2 IdRef      Retrieved from \"https://simple.wikipedia.org/w/index.php?title=Paris&oldid=8796898\"\n",
            "4\n"
          ]
        }
      ]
    },
    {
      "cell_type": "markdown",
      "source": [
        "Main Function to Run the query multiple times."
      ],
      "metadata": {
        "id": "ZTSyqAOAywl7"
      }
    },
    {
      "cell_type": "code",
      "execution_count": 66,
      "metadata": {
        "colab": {
          "base_uri": "https://localhost:8080/"
        },
        "id": "wwWrKYG8sz62",
        "outputId": "bcdfda4a-269c-46ce-b95b-fc112f5da028"
      },
      "outputs": [
        {
          "name": "stdout",
          "output_type": "stream",
          "text": [
            "Enter your question (or 'q' to quit): What is the capital of Holland?\n",
            " Amsterdam\n",
            "Enter your question (or 'q' to quit): What is the average rainfall in Abu Dhabi?\n",
            " The average annual rainfall in Abu Dhabi is 51 cm or 20 inches.\n",
            "Enter your question (or 'q' to quit): What is the elevation of Baku?\n",
            " The elevation of Baku is -28 meters or -92 feet.\n",
            "Enter your question (or 'q' to quit): q\n"
          ]
        }
      ],
      "source": [
        "def main():\n",
        "    while True:\n",
        "        question = input(\"Enter your question (or 'q' to quit): \")\n",
        "        if question.lower() == \"q\":\n",
        "            break\n",
        "\n",
        "        result = answer_query(question, db)\n",
        "        print(result[\"completion\"])\n",
        "\n",
        "if __name__ == \"__main__\":\n",
        "    main()"
      ]
    }
  ],
  "metadata": {
    "colab": {
      "provenance": [],
      "gpuType": "T4"
    },
    "kernelspec": {
      "display_name": "Python 3",
      "language": "python",
      "name": "python3"
    },
    "language_info": {
      "codemirror_mode": {
        "name": "ipython",
        "version": 3
      },
      "file_extension": ".py",
      "mimetype": "text/x-python",
      "name": "python",
      "nbconvert_exporter": "python",
      "pygments_lexer": "ipython3",
      "version": "3.8.5"
    },
    "accelerator": "GPU",
    "gpuClass": "standard"
  },
  "nbformat": 4,
  "nbformat_minor": 0
}